{
 "cells": [
  {
   "cell_type": "markdown",
   "metadata": {},
   "source": [
    "#                                                   REPORT"
   ]
  },
  {
   "cell_type": "markdown",
   "metadata": {},
   "source": [
    "### Option 1: Advanced Heuristic"
   ]
  },
  {
   "cell_type": "markdown",
   "metadata": {},
   "source": [
    "Custom Player is implemented to search for the next best move using : \n",
    "Alpha - Beta pruning with iterative deepening  \n",
    "\n",
    "Two Heuristics implemented\n",
    "- Standard Heuristic\n",
    "- Custom Heuristic to check for states away from the edges of the board"
   ]
  },
  {
   "cell_type": "markdown",
   "metadata": {},
   "source": [
    "#### Scenario 1(a): Custom Agent with Standard Heuristic, against Random Agent"
   ]
  },
  {
   "cell_type": "code",
   "execution_count": 33,
   "metadata": {},
   "outputs": [
    {
     "name": "stdout",
     "output_type": "stream",
     "text": [
      "Running 200 games:\n",
      "+++++-++++--+++++++++-+++++-+++-+++++-+++++-+++-+++++++++++++++++++++++++-+++++++++++++++++++-++++++++++--++-++++++++--+++++++++++++++++++++++++++-++--+++++++++++++++++++++++++++++++++-+++++++++--+++++------+++++++++++++++++++++++-++++\n",
      "Outcome of Fair Matches:\n",
      "Running 200 games:\n",
      "+++++++++---+++++++++++++++++++++++++++-+++++++++++++++--++++++++-++++++++++++++++++++++++--++++++++++-++-+++++--++++-+++++++++++++++++++++-+-+++--++++++++-+++++++++++++++++++----+++++++++++++-++++++-++++++++++++--+-++++++++-+-++++++++-\n",
      "Your agent won 86.8% of matches against Random Agent\n",
      "\n"
     ]
    }
   ],
   "source": [
    "%run run_match.py -f -r 100 -o RANDOM -p 4"
   ]
  },
  {
   "cell_type": "markdown",
   "metadata": {},
   "source": [
    "#### Scenario 1(b): Custom Agent with Custom Heuristic, against Random Agent"
   ]
  },
  {
   "cell_type": "code",
   "execution_count": 28,
   "metadata": {},
   "outputs": [
    {
     "name": "stdout",
     "output_type": "stream",
     "text": [
      "Running 200 games:\n",
      "++++++++++++-+-++++++++++++++++-+-+++++++++++++++++++++++++-++--+++++++-++++++++++++++++--+---++++++++++++++-++++++-+++++--++++++-+++++-+++++---+++--+++++++++++++++-+-++--++++++++-+++++-+--++++++++++++++++++++++--+++++++++++++++-+++++++++-\n",
      "Outcome of Fair Matches:\n",
      "Running 200 games:\n",
      "+++-++-++++++++---+++++++++-++++++++++++++++++-++++++++++--++-+++++++++++++++++++++++-++-+++-++++++--++++++++-+++++++++++++++++++++++++++++++++++-+++++++++++++++++-+++++-+++++--+++++-+++++++-++++++++++-++-+++++++++++++++++++++++++-++++++++++++-++\n",
      "Your agent won 86.5% of matches against Random Agent\n",
      "\n"
     ]
    }
   ],
   "source": [
    "%run run_match.py -f -r 100 -o RANDOM -p 4"
   ]
  },
  {
   "cell_type": "markdown",
   "metadata": {},
   "source": [
    "#### Scenario 2(a): Custom Agent with Standard Heuristic, against Greedy Agent"
   ]
  },
  {
   "cell_type": "code",
   "execution_count": 26,
   "metadata": {},
   "outputs": [
    {
     "name": "stdout",
     "output_type": "stream",
     "text": [
      "Running 200 games:\n",
      "+-+++++--++--+-+-+--++++---+-++++++--++---+-+--++++-+++++--+-------++-+--++---+-++++++++++++-++---++++++---++++-++-+++-+++-+++-+++----++++-++----++++++--+++--------+++++--+++-+++-++--+++++++++++-+++++--+-+-++-++-++++++--+-+--++-+++++++---+\n",
      "Outcome of Fair Matches:\n",
      "Running 200 games:\n",
      "++-++-+++-+-+++--+++-++++--+-++++---+--+++++-+-++++++++-++--+--+---+--+-++--+++++--+---+++---+---++++-+-+++++-++++++++++++++-----++---+++--+---++++--++++++----+++++++++++++-+-----++++-+--++++++++-+--+++++++-+--+----++++--+++++--+--++++++-++--+\n",
      "Your agent won 62.0% of matches against Greedy Agent\n",
      "\n"
     ]
    }
   ],
   "source": [
    "%run run_match.py -f -r 100 -o GREEDY -p 4"
   ]
  },
  {
   "cell_type": "markdown",
   "metadata": {},
   "source": [
    "#### Scenario 2(b): Custom Agent with Custom Heuristic, against Greedy Agent"
   ]
  },
  {
   "cell_type": "code",
   "execution_count": 29,
   "metadata": {},
   "outputs": [
    {
     "name": "stdout",
     "output_type": "stream",
     "text": [
      "Running 200 games:\n",
      "+-+++--+---++++++-++-+++++++++++-+++++---++-+++++-+++++++-++---+++---+++++++---+---++++--++-+++++++++-+++++--++---++-++--++++-++-+----+-+---+++++++++++-+++++++++--++++++----+++-+----+--+--+++---+++++++++--+-++++-+++--+++++++-+++++++----+++---++-+++++++++++++++\n",
      "Outcome of Fair Matches:\n",
      "Running 200 games:\n",
      "----++-+++--+----+-+++--+--++++-+++++++++-+++--+-++++-++----++++++--+++-++++-++-+---+-++--++-++++++++--+---++++---++++++++-++++++--+---+++-++++++---+++--++-----+-+++++---+-++---+-+++++---+++++++-+++++++++--+---+++++-+-+++--+-+-+++--+--+----\n",
      "Your agent won 65.0% of matches against Greedy Agent\n",
      "\n"
     ]
    }
   ],
   "source": [
    "%run run_match.py -f -r 100 -o GREEDY -p 4"
   ]
  },
  {
   "cell_type": "markdown",
   "metadata": {},
   "source": [
    "#### Scenario 3(a): Custom Agent with Standard Heuristic, against Minimax Agent"
   ]
  },
  {
   "cell_type": "code",
   "execution_count": 27,
   "metadata": {},
   "outputs": [
    {
     "name": "stdout",
     "output_type": "stream",
     "text": [
      "Running 200 games:\n",
      "+--+--+-+--+---------------++--+-+-++--++-------+------++++----+--+--------+--++---++---+-++++--++-+--+--+--++-+---+--+-+-+---+++-+++++--++---+-----+--+-----------++++--------+--+++-------+++++++-++--+--++++++-+++-+-+-++++----+++----++\n",
      "Outcome of Fair Matches:\n",
      "Running 200 games:\n",
      "-+---++--++-------+--------++---+++------++------------++---+-+-+---+++-+---------------+--+-++---++------+++----++++---+-+++-+-+-+--------+--++--++-++--+----+----+--++---++---+++--++-+-+++----++--+---+-++--++---+--+-++----+-++--+--+----++-\n",
      "Your agent won 38.5% of matches against Minimax Agent\n",
      "\n"
     ]
    }
   ],
   "source": [
    "%run run_match.py -f -r 100 -o MINIMAX -p 4"
   ]
  },
  {
   "cell_type": "markdown",
   "metadata": {},
   "source": [
    "#### Scenario 3(b): Custom Agent with Custom Heuristic, against Minimax Agent"
   ]
  },
  {
   "cell_type": "code",
   "execution_count": 31,
   "metadata": {},
   "outputs": [
    {
     "name": "stdout",
     "output_type": "stream",
     "text": [
      "Running 200 games:\n",
      "--++++---+--+++----+++-+++------+++-+--++------+-+++-++------++-----++--+-+++-++++---++-+--+---+-++-+--+----+--++++++-+-++++----+-+++-+++----+-++-+----+---++-++++-+--+--++-++-----+--+--++--++--+-+---++-+---+-++----++-----++---+----++---+++----+--\n",
      "Outcome of Fair Matches:\n",
      "Running 200 games:\n",
      "-----+--++-+++------+-+++--++--+--+---------+--+---------+--++----++---++---+-++--++-+-+---+-+---+++--++-+-+++---------++---++-+--+-+--+---++--++-------++++--------+++------+-++--++----+------++--++---------++++----------+--+---+---++++++-+++-+\n",
      "Your agent won 39.2% of matches against Minimax Agent\n",
      "\n"
     ]
    }
   ],
   "source": [
    "%run run_match.py -f -r 100 -o MINIMAX -p 4"
   ]
  },
  {
   "cell_type": "markdown",
   "metadata": {},
   "source": [
    "### Advanced Heuristic Analysis"
   ]
  },
  {
   "cell_type": "code",
   "execution_count": 19,
   "metadata": {},
   "outputs": [
    {
     "data": {
      "image/png": "[encoded data removed]",
      "text/plain": [
       "<matplotlib.figure.Figure at 0x1a22ab5cf8>"
      ]
     },
     "metadata": {},
     "output_type": "display_data"
    }
   ],
   "source": [
    "# Generating report chart using seaborn\n",
    "\n",
    "import pandas as pd\n",
    "import seaborn as sns\n",
    "\n",
    "# Baseline: Standard Heuristic with fair_matches flag enabled\n",
    "\n",
    "\n",
    "match_wins = pd.DataFrame({\n",
    "    'Opponent Agent Type': ['Random Agent', 'Random Agent', 'Greedy Agent', 'Greedy Agent', 'Minimax Agent', 'Minimax Agent'],\n",
    "    'Custom Agent % Match Wins' : [86.8, 86.5, 62.0, 65.0, 38.5, 39.2], # Data from outcome of Scenarios 1, 2, 3 above\n",
    "    'Heuristics' : ['Standard', 'Advanced', 'Standard', 'Advanced', 'Standard', 'Advanced']\n",
    "})\n",
    "\n",
    "sns.set(style=\"whitegrid\")\n",
    "ax = sns.barplot(x=\"Opponent Agent Type\", y=\"Custom Agent % Match Wins\", hue = 'Heuristics', data=match_wins)\n"
   ]
  },
  {
   "cell_type": "markdown",
   "metadata": {},
   "source": [
    "- Above graph shows my custom agent 'Percent Match Wins' against different opponent agent types.\n",
    "- The games were played first with Standard Heuristic and then with the Advanced Heuristic\n",
    "- For each of the scenarios, a total of 200 games were played."
   ]
  },
  {
   "cell_type": "markdown",
   "metadata": {},
   "source": [
    "- What features of the game does your heuristic incorporate, and why do you think those features matter in evaluating states during search?\n",
    "\n",
    "My custom heuristic incorporates choosing locations on the board away from the borders. Since, the more the knight remains in the centre board , the greater would be chances for more number of liberties at each state. Having more liberties than the opponent is one of the key factors to make sure that my player remains in the game.\n",
    "\n",
    "- Analyze the search depth your agent achieves using your custom heuristic. Does search speed matter more or less than accuracy to the performance of your heuristic?\n",
    "\n",
    "My custom agent achieves a search depth of 5. Search depth limit greater than 5, runs the risks of taking longer than the default time constraint placed on each move. Heuristic accuracy is more important than search speed when there is a time constraint for making the move."
   ]
  },
  {
   "cell_type": "markdown",
   "metadata": {},
   "source": [
    "******************************************************************************************************************"
   ]
  },
  {
   "cell_type": "markdown",
   "metadata": {},
   "source": [
    "### Option 2: Opening book"
   ]
  },
  {
   "cell_type": "markdown",
   "metadata": {},
   "source": [
    "- Open book data built using MiniMax Search with alpha-beta pruning and Custom Heuristic, created as part of Advance Heuristic Analysis above\n",
    "- Depth search limit of 5"
   ]
  },
  {
   "cell_type": "markdown",
   "metadata": {},
   "source": [
    "Code Output: open_book.py"
   ]
  },
  {
   "cell_type": "code",
   "execution_count": 30,
   "metadata": {},
   "outputs": [
    {
     "name": "stdout",
     "output_type": "stream",
     "text": [
      "Enter open_book __main__\n",
      "Round : 1 2 3 4 5 6 7 8 9 10 11 12 13 14 15 16 17 18 19 20 21 22 23 24 25 26 27 28 29 30 31 32 33 34 35 36 37 38 39 40 41 42 43 44 45 46 47 48 49 50 51 52 53 54 55 56 57 58 59 60 61 62 63 64 65 66 67 68 69 70 71 72 73 74 75 76 77 78 79 80 81 82 83 84 85 86 87 88 89 90 91 92 93 94 95 96 97 98 99 100 101 102 103 104 105 106 107 108 109 110 111 112 113 114 115 116 117 118 119 120 121 122 123 124 125 126 127 128 129 130 131 132 133 134 135 136 137 138 139 140 141 142 143 144 145 146 147 148 149 150 \n",
      "Open Book Data for data.pickle file\n",
      "Book State: Isolation(board=35029621004270016973516770054760447, ply_count=4, locs=(101, 99))\n",
      "Action: -15\n",
      "Book State: Isolation(board=35030254829570131088217518406363135, ply_count=3, locs=(101, 110))\n",
      "Action: -11\n",
      "Book State: Isolation(board=35032790130770587547020511812773887, ply_count=2, locs=(112, 110))\n",
      "Action: -11\n",
      "Book State: Isolation(board=41523161203939122082683632224299007, ply_count=0, locs=(None, None))\n",
      "Action: 112\n",
      "Book State: Isolation(board=36330864345404294454153135895078911, ply_count=1, locs=(112, None))\n",
      "Action: 110\n"
     ]
    }
   ],
   "source": [
    "%run open_book.py"
   ]
  },
  {
   "cell_type": "markdown",
   "metadata": {},
   "source": [
    "#### Scenario 4(a) Custom Agent using data from opening book, against Random Agent. Without Fair Matches"
   ]
  },
  {
   "cell_type": "code",
   "execution_count": 14,
   "metadata": {},
   "outputs": [
    {
     "name": "stdout",
     "output_type": "stream",
     "text": [
      "Running 160 games:\n",
      "++++++++++++++++++++++++++++++++++++++++++++++++++++---++++++++-+++++++++++++++++++++-++++++++++++++++++++++++++++++++-+++++++++++++++++++++++++++++-++++++++++++++++++++++++++++++++++++++--++++++-+++++++++++++++++\n",
      "Your agent won 95.6% of matches against Random Agent\n",
      "\n"
     ]
    }
   ],
   "source": [
    "%run run_match.py -r 80 -o RANDOM -p 4"
   ]
  },
  {
   "cell_type": "markdown",
   "metadata": {},
   "source": [
    "#### Scenario 4(b) Custom Agent using data from opening book, against Random Agent. With Fair Matches"
   ]
  },
  {
   "cell_type": "code",
   "execution_count": 16,
   "metadata": {},
   "outputs": [
    {
     "name": "stdout",
     "output_type": "stream",
     "text": [
      "Running 160 games:\n",
      "+++++++++++++++++++++++++++++++++++++++++++++--+++++++++++++++++++++++++++++++++++++++++++++--+++++++++++++-++++++++--++++++++++++++++++++++++++++++++++++--++++++++++-+++++++++++++-+++++++-+++++-+++++++-++-++++\n",
      "Outcome of Fair Matches:\n",
      "Running 160 games:\n",
      "+++++++++++++++++++++++++++++++++++++++++++++++++++++++++++++++++++++++++++++++-+-++++++++++++++++-+++++++++++++++++-+-+++--++++++++++++++++++++++++++++++++++++++++++++++++++++++++++++++++++++---++++++++++++++++--++++++-+++\n",
      "Your agent won 92.8% of matches against Random Agent\n",
      "\n"
     ]
    }
   ],
   "source": [
    "%run run_match.py -f -r 80 -o RANDOM -p 4"
   ]
  },
  {
   "cell_type": "markdown",
   "metadata": {},
   "source": [
    "#### Scenario 5(a) Custom Agent using data from opening book, against Greedy Agent. Without Fair Matches"
   ]
  },
  {
   "cell_type": "code",
   "execution_count": 20,
   "metadata": {},
   "outputs": [
    {
     "name": "stdout",
     "output_type": "stream",
     "text": [
      "Running 160 games:\n",
      "++-+++++-+++++++++++++--++++++++++++-++-+++++++++++++++++-+++-+++++++++-++++++++++++++++++++++++++--++++-+-+-++++++++++-++-++++++++++++++++-++-++-++++++++++++++++--++++++++++++++++++++--++++++++++-++-+++++++\n",
      "Your agent won 85.6% of matches against Greedy Agent\n",
      "\n"
     ]
    }
   ],
   "source": [
    "%run run_match.py -r 80 -o GREEDY -p 4"
   ]
  },
  {
   "cell_type": "markdown",
   "metadata": {},
   "source": [
    "#### Scenario 5(b) Custom Agent using data from opening book, against Greedy Agent. With Fair Matches"
   ]
  },
  {
   "cell_type": "code",
   "execution_count": 24,
   "metadata": {},
   "outputs": [
    {
     "name": "stdout",
     "output_type": "stream",
     "text": [
      "Running 160 games:\n",
      "++++++++++++++-++++++++-+++++++-+++++++-+++-+-+-+++++++++++++++--+++++---++++---++++++++++++++++++++++-++++++++++++-+++++-++++++++++--+++++-++++++++-+++++++-+++++++++-+++++++-++++++++++++++++--++-+++\n",
      "Outcome of Fair Matches:\n",
      "Running 160 games:\n",
      "+++--++++-----+++++----+-++++++++++--++---+++++++++--++++++++--++--+--+++++-++++-++++--+++-++++++-+++++-++++++++++++---++-+++++-+++++++++++++--+++++++-+++++++++++++++++-+--++++--++-++++++++++++++++++++-+-+++-+++\n",
      "Your agent won 80.3% of matches against Greedy Agent\n",
      "\n"
     ]
    }
   ],
   "source": [
    "%run run_match.py -f -r 80 -o GREEDY -p 4"
   ]
  },
  {
   "cell_type": "markdown",
   "metadata": {},
   "source": [
    "#### Scenario 6(a) Custom Agent using data from opening book, against Minimax Agent. Without Fair Matches"
   ]
  },
  {
   "cell_type": "code",
   "execution_count": 25,
   "metadata": {},
   "outputs": [
    {
     "name": "stdout",
     "output_type": "stream",
     "text": [
      "Running 160 games:\n",
      "--++--++++-----+--++-+--+--+---+++++-++++++++--------++-++++++--++++++---------++-++++-++++++--++----++++----++------+++++----++++--+++----+---++-+------------++--++-+-+---++++--+++++++++++++++++++----++--+++-++++++--+--++---++-++++\n",
      "Your agent won 50.0% of matches against Minimax Agent\n",
      "\n"
     ]
    }
   ],
   "source": [
    "# Disable fair_matches to create initial baseline\n",
    "\n",
    "%run run_match.py -r 80 -o MINIMAX"
   ]
  },
  {
   "cell_type": "markdown",
   "metadata": {},
   "source": [
    "#### Scenario 6(b) Custom Agent using data from opening book, against Minimax Agent. With Fair Matches"
   ]
  },
  {
   "cell_type": "code",
   "execution_count": 26,
   "metadata": {},
   "outputs": [
    {
     "name": "stdout",
     "output_type": "stream",
     "text": [
      "Running 160 games:\n",
      "--++++++++--+----++------++++--++-----++--++--+--++++++---++-+--+----+++---++--+-----+-+++-++---++++----+++-++++++++---+++---+------+-------++++++-++------++--+-++++++++--+----++--++-+++----+-++----+++++--+++------+--++--------+++-++-\n",
      "Outcome of Fair Matches:\n",
      "Running 160 games:\n",
      "-+++--++--++--+----++--++++--++-----------++---++-+--+-++++++-+-+--++++-+++++-+++--+++--+++++++-+--------++------++-----++-----+++++++++++------+-+---++++++-++++++++++++-----++++---++----++++------++++-+--------+-----++----+-----+\n",
      "Your agent won 47.5% of matches against Minimax Agent\n",
      "\n"
     ]
    }
   ],
   "source": [
    "#opening moves selected from data.pickle. fair_matches enabled. \n",
    "\n",
    "%run run_match.py -f -r 80 -o MINIMAX"
   ]
  },
  {
   "cell_type": "markdown",
   "metadata": {},
   "source": [
    "### Opening Book Analysis"
   ]
  },
  {
   "cell_type": "code",
   "execution_count": 27,
   "metadata": {},
   "outputs": [
    {
     "data": {
      "image/png": "[encoded data removed]",
      "text/plain": [
       "<matplotlib.figure.Figure at 0x1a24165e48>"
      ]
     },
     "metadata": {},
     "output_type": "display_data"
    }
   ],
   "source": [
    "# Generating report chart using seaborn\n",
    "\n",
    "import pandas as pd\n",
    "import seaborn as sns\n",
    "\n",
    "# Baseline: Matches played against other agents not using opening book\n",
    "\n",
    "\n",
    "match_wins = pd.DataFrame({\n",
    "    'Opponent Agent Type': ['Random Agent', 'Random Agent', 'Greedy Agent', 'Greedy Agent', 'Minimax Agent', 'Minimax Agent'],\n",
    "    'Custom Agent % Match Wins' : [95.6, 92.8, 85.6, 80.3, 50.0, 47.5], # Data from outcome of Scenarios 4, 5, 6 above\n",
    "    'Match Style' : ['No Fair Matches', 'Fair Matches', 'No Fair Matches', 'Fair Matches', 'No Fair Matches', 'Fair Matches']\n",
    "})\n",
    "\n",
    "sns.set(style=\"whitegrid\")\n",
    "ax = sns.barplot(x=\"Opponent Agent Type\", y=\"Custom Agent % Match Wins\", hue = 'Match Style', data=match_wins)\n",
    "\n"
   ]
  },
  {
   "cell_type": "markdown",
   "metadata": {},
   "source": [
    "- Above graph shows 'Percent Match Wins'for my custom agent, that selects opening moves from the opening book,  against different opponent agent types that do not use opening book.\n",
    "- My custom agent uses the advanced heuristic for all the matches.\n",
    "- The games were played both with and without Fair Matches.\n",
    "- For each of the scenarios, a total of 160 games were played."
   ]
  },
  {
   "cell_type": "markdown",
   "metadata": {},
   "source": [
    "- Describe your process for collecting statistics to build your opening book. How did you choose states to sample? And how did you perform rollouts to determine a winner?\n",
    "\n",
    "The data is built using Alpa-Beta pruning with Iterative Deepening. States which have led to the most win counts, for the number of rounds, in which the search ran were selected as winners.\n",
    "\n",
    "- What opening moves does your book suggest are most effective on an empty board for player 1 and what is player 2's best reply?\n",
    "\n",
    "From the above data it is clear that the close Player 1 is to the centre board, the higher are it's chances of winning. "
   ]
  },
  {
   "cell_type": "markdown",
   "metadata": {},
   "source": [
    "******************************************************************************************************************"
   ]
  }
 ],
 "metadata": {
  "kernelspec": {
   "display_name": "Python [conda env:aind]",
   "language": "python",
   "name": "conda-env-aind-py"
  },
  "language_info": {
   "codemirror_mode": {
    "name": "ipython",
    "version": 3
   },
   "file_extension": ".py",
   "mimetype": "text/x-python",
   "name": "python",
   "nbconvert_exporter": "python",
   "pygments_lexer": "ipython3",
   "version": "3.5.4"
  }
 },
 "nbformat": 4,
 "nbformat_minor": 2
}
